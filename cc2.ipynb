{
 "cells": [
  {
   "cell_type": "code",
   "execution_count": 1,
   "metadata": {},
   "outputs": [],
   "source": [
    "import pandas as pd\n",
    "import numpy as np"
   ]
  },
  {
   "cell_type": "code",
   "execution_count": 2,
   "metadata": {},
   "outputs": [],
   "source": [
    "data = pd.read_csv('data_contest_answers.csv')"
   ]
  },
  {
   "cell_type": "code",
   "execution_count": 3,
   "metadata": {},
   "outputs": [
    {
     "name": "stdout",
     "output_type": "stream",
     "text": [
      "                    Date  Groupe  Passage  Clarté de la définition  \\\n",
      "0    02/02/2021 13:40:41       1        1                        4   \n",
      "1    02/02/2021 13:40:43       1        1                        1   \n",
      "2    02/02/2021 13:40:58       1        1                        4   \n",
      "3    02/02/2021 13:41:01       1        1                        5   \n",
      "4    02/02/2021 13:41:04       1        1                        4   \n",
      "..                   ...     ...      ...                      ...   \n",
      "650  02/02/2021 15:03:17       9        2                        5   \n",
      "651  02/02/2021 15:03:17       9        2                        5   \n",
      "652  02/02/2021 15:03:26       9        2                        6   \n",
      "653  02/02/2021 15:03:33       9        2                        4   \n",
      "654  02/02/2021 15:03:47       9        2                        6   \n",
      "\n",
      "     Pertinence de l’exemple choisi   Lisibilité du pseudo code  \\\n",
      "0                                 3                           1   \n",
      "1                                 1                           1   \n",
      "2                                 4                           3   \n",
      "3                                 4                           3   \n",
      "4                                 4                           2   \n",
      "..                              ...                         ...   \n",
      "650                               5                           5   \n",
      "651                               4                           5   \n",
      "652                               6                           6   \n",
      "653                               4                           4   \n",
      "654                               6                           5   \n",
      "\n",
      "     Qualité du support  Qualité du discours oral  Motivation de la stratégie  \\\n",
      "0                     4                         3                           3   \n",
      "1                     1                         5                           1   \n",
      "2                     5                         5                           4   \n",
      "3                     5                         4                           4   \n",
      "4                     5                         4                           4   \n",
      "..                  ...                       ...                         ...   \n",
      "650                   5                         5                           4   \n",
      "651                   6                         5                           6   \n",
      "652                   6                         6                           6   \n",
      "653                   4                         4                           4   \n",
      "654                   5                         6                           3   \n",
      "\n",
      "    Remarque libre  \n",
      "0              NaN  \n",
      "1       C'est long  \n",
      "2              NaN  \n",
      "3              NaN  \n",
      "4              NaN  \n",
      "..             ...  \n",
      "650            NaN  \n",
      "651            NaN  \n",
      "652            NaN  \n",
      "653            NaN  \n",
      "654            NaN  \n",
      "\n",
      "[655 rows x 10 columns]\n"
     ]
    }
   ],
   "source": [
    "print(data)"
   ]
  },
  {
   "cell_type": "code",
   "execution_count": 4,
   "metadata": {},
   "outputs": [
    {
     "name": "stdout",
     "output_type": "stream",
     "text": [
      "(655, 10)\n"
     ]
    }
   ],
   "source": [
    "print(data.shape)"
   ]
  },
  {
   "cell_type": "code",
   "execution_count": 5,
   "metadata": {},
   "outputs": [
    {
     "name": "stdout",
     "output_type": "stream",
     "text": [
      "                  Date  Groupe  Passage  Clarté de la définition  \\\n",
      "0  02/02/2021 13:40:41       1        1                        4   \n",
      "1  02/02/2021 13:40:43       1        1                        1   \n",
      "2  02/02/2021 13:40:58       1        1                        4   \n",
      "3  02/02/2021 13:41:01       1        1                        5   \n",
      "4  02/02/2021 13:41:04       1        1                        4   \n",
      "5  02/02/2021 13:41:08       1        1                        6   \n",
      "6  02/02/2021 13:41:12       1        1                        4   \n",
      "7  02/02/2021 13:41:14       1        1                        3   \n",
      "8  02/02/2021 13:41:15       1        1                        5   \n",
      "9  02/02/2021 13:41:19       1        1                        3   \n",
      "\n",
      "   Pertinence de l’exemple choisi   Lisibilité du pseudo code  \\\n",
      "0                               3                           1   \n",
      "1                               1                           1   \n",
      "2                               4                           3   \n",
      "3                               4                           3   \n",
      "4                               4                           2   \n",
      "5                               6                           6   \n",
      "6                               4                           1   \n",
      "7                               3                           4   \n",
      "8                               5                           2   \n",
      "9                               4                           1   \n",
      "\n",
      "   Qualité du support  Qualité du discours oral  Motivation de la stratégie  \\\n",
      "0                   4                         3                           3   \n",
      "1                   1                         5                           1   \n",
      "2                   5                         5                           4   \n",
      "3                   5                         4                           4   \n",
      "4                   5                         4                           4   \n",
      "5                   6                         6                           6   \n",
      "6                   4                         6                           1   \n",
      "7                   4                         2                           3   \n",
      "8                   5                         3                           5   \n",
      "9                   2                         3                           4   \n",
      "\n",
      "  Remarque libre  \n",
      "0            NaN  \n",
      "1     C'est long  \n",
      "2            NaN  \n",
      "3            NaN  \n",
      "4            NaN  \n",
      "5            NaN  \n",
      "6            NaN  \n",
      "7            NaN  \n",
      "8            NaN  \n",
      "9            NaN  \n"
     ]
    }
   ],
   "source": [
    "print(data.head(10))"
   ]
  },
  {
   "cell_type": "code",
   "execution_count": null,
   "metadata": {},
   "outputs": [],
   "source": []
  },
  {
   "cell_type": "code",
   "execution_count": null,
   "metadata": {},
   "outputs": [],
   "source": []
  },
  {
   "cell_type": "code",
   "execution_count": null,
   "metadata": {},
   "outputs": [],
   "source": []
  },
  {
   "cell_type": "code",
   "execution_count": null,
   "metadata": {},
   "outputs": [],
   "source": []
  },
  {
   "cell_type": "code",
   "execution_count": null,
   "metadata": {},
   "outputs": [],
   "source": []
  },
  {
   "cell_type": "code",
   "execution_count": null,
   "metadata": {},
   "outputs": [],
   "source": []
  },
  {
   "cell_type": "code",
   "execution_count": null,
   "metadata": {},
   "outputs": [],
   "source": []
  }
 ],
 "metadata": {
  "kernelspec": {
   "display_name": "Python 3",
   "language": "python",
   "name": "python3"
  },
  "language_info": {
   "codemirror_mode": {
    "name": "ipython",
    "version": 3
   },
   "file_extension": ".py",
   "mimetype": "text/x-python",
   "name": "python",
   "nbconvert_exporter": "python",
   "pygments_lexer": "ipython3",
   "version": "3.8.5"
  }
 },
 "nbformat": 4,
 "nbformat_minor": 4
}
